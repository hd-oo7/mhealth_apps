{
 "cells": [
  {
   "cell_type": "markdown",
   "id": "f04a3eff-45ab-4a05-9791-66124b041921",
   "metadata": {},
   "source": [
    "# Analysing Privacy Policies"
   ]
  },
  {
   "cell_type": "code",
   "execution_count": 1,
   "id": "c9e9ce46-c6a9-4bc5-a473-5120289ca1e3",
   "metadata": {},
   "outputs": [
    {
     "name": "stdout",
     "output_type": "stream",
     "text": [
      "Number of privacy policies extracted: 843 (98.71%)\n"
     ]
    }
   ],
   "source": [
    "import os\n",
    "import pandas as pd\n",
    "\n",
    "policy_dir = '../data/privacy_policies'\n",
    "mhealth_apps = pd.read_csv('../data/mhealth_apps.csv')\n",
    "\n",
    "policy_files = {os.path.splitext(file)[0] for file in os.listdir(policy_dir) if file.endswith('.txt')}\n",
    "mhealth_apps['privacy_policy_file'] = mhealth_apps['app_id'].apply(lambda app_id: 'Yes' if str(app_id) in policy_files else 'No')\n",
    "\n",
    "txt_file_count = len(policy_files)\n",
    "print(f\"Number of privacy policies extracted: {txt_file_count} ({txt_file_count/len(mhealth_apps['app_id'])*100:.2f}%)\")"
   ]
  },
  {
   "cell_type": "code",
   "execution_count": 2,
   "id": "7ebb4b53-5988-4b26-93db-1b7a8efe18e9",
   "metadata": {},
   "outputs": [
    {
     "name": "stdout",
     "output_type": "stream",
     "text": [
      "The request is blocked.\n",
      "This site can’t be reached\n",
      "Privacy error\n",
      "AccessDenied\n",
      "AccessDenied\n",
      "404. That’s an error\n",
      "Can't Find That Page\n",
      "Connection timed out\n",
      "doesn't work properly without JavaScript enabled\n",
      "This site can’t be reached\n",
      "no privacy policy\n"
     ]
    }
   ],
   "source": [
    "import os\n",
    "\n",
    "policy_dir = '../data/privacy_policies'\n",
    "\n",
    "# Error phrases to search for\n",
    "error_phrases = [\n",
    "    \"Connection timed out\",\n",
    "    \"Can't Find That Page\",\n",
    "    \"Privacy error\",\n",
    "    \"doesn't work properly without JavaScript enabled\",\n",
    "    \"This site can’t be reached\",\n",
    "    \"This document does not exist\",\n",
    "    \"The request is blocked.\",\n",
    "    \"AccessDenied\",\n",
    "    \"404. That’s an error\",\n",
    "    \"no privacy policy\"\n",
    "]\n",
    "\n",
    "error_policy = []\n",
    "for filename in os.listdir(policy_dir):\n",
    "    file_path = os.path.join(policy_dir, filename)\n",
    "    \n",
    "    if os.path.isfile(file_path):\n",
    "        try:\n",
    "            with open(file_path, 'r', encoding='utf-8') as file:\n",
    "                content = file.read()\n",
    "                \n",
    "                for phrase in error_phrases:\n",
    "                    if phrase in content:\n",
    "                        # print(f\"{filename:<50}: {phrase}\")\n",
    "                        print(f\"{phrase}\")\n",
    "                        app_id = os.path.splitext(filename)[0]  # Fixed here to use `filename`\n",
    "                        error_policy.append(app_id)\n",
    "        except Exception as e:\n",
    "            # print(f\"Error reading {filename}: {e}\")\n",
    "            pass"
   ]
  },
  {
   "cell_type": "code",
   "execution_count": 3,
   "id": "97966832-843a-4750-9e6a-2c8543f117b3",
   "metadata": {},
   "outputs": [
    {
     "name": "stdout",
     "output_type": "stream",
     "text": [
      "Number of apps with no policy files: 22, 2.58%\n"
     ]
    }
   ],
   "source": [
    "apps_no_policy = mhealth_apps[mhealth_apps['privacy_policy_file'] == 'No']\n",
    "apps_with_errors = mhealth_apps[mhealth_apps['app_id'].isin(error_policy)]\n",
    "apps_no_policy = pd.concat([apps_no_policy, apps_with_errors])\n",
    "print(f'Number of apps with no policy files: {len(apps_no_policy)}, {round(len(apps_no_policy)/len(mhealth_apps)*100, 2)}%')\n"
   ]
  },
  {
   "cell_type": "code",
   "execution_count": 4,
   "id": "7163b693-5d89-40b7-ad14-0383c9b720b9",
   "metadata": {},
   "outputs": [
    {
     "name": "stdout",
     "output_type": "stream",
     "text": [
      "categories\n",
      "Health & Fitness    6\n",
      "Medical             5\n",
      "Name: count, dtype: int64\n"
     ]
    },
    {
     "data": {
      "text/html": [
       "<div>\n",
       "<style scoped>\n",
       "    .dataframe tbody tr th:only-of-type {\n",
       "        vertical-align: middle;\n",
       "    }\n",
       "\n",
       "    .dataframe tbody tr th {\n",
       "        vertical-align: top;\n",
       "    }\n",
       "\n",
       "    .dataframe thead th {\n",
       "        text-align: right;\n",
       "    }\n",
       "</style>\n",
       "<table border=\"1\" class=\"dataframe\">\n",
       "  <thead>\n",
       "    <tr style=\"text-align: right;\">\n",
       "      <th></th>\n",
       "      <th>app_name</th>\n",
       "      <th>app_id</th>\n",
       "      <th>categories</th>\n",
       "      <th>content_rating</th>\n",
       "      <th>updated_on</th>\n",
       "      <th>downloads</th>\n",
       "      <th>free</th>\n",
       "      <th>offersIAP</th>\n",
       "      <th>top_grossing</th>\n",
       "      <th>is_privacy_policy</th>\n",
       "      <th>countries</th>\n",
       "      <th>inAppProductPrice</th>\n",
       "      <th>privacy_policy_link</th>\n",
       "      <th>permissions</th>\n",
       "      <th>num_permissions</th>\n",
       "      <th>dangerous_permissions</th>\n",
       "      <th>num_dangerous_permissions</th>\n",
       "      <th>trackers</th>\n",
       "      <th>num_trackers</th>\n",
       "      <th>privacy_policy_file</th>\n",
       "    </tr>\n",
       "  </thead>\n",
       "  <tbody>\n",
       "    <tr>\n",
       "      <th>392</th>\n",
       "      <td>Smart Fit</td>\n",
       "      <td>com.eokoe.smartfitcoach</td>\n",
       "      <td>Health &amp; Fitness</td>\n",
       "      <td>All ages</td>\n",
       "      <td>11/25/24</td>\n",
       "      <td>8343420</td>\n",
       "      <td>True</td>\n",
       "      <td>False</td>\n",
       "      <td>Yes</td>\n",
       "      <td>Yes</td>\n",
       "      <td>co, gt, cr, br, mx, cl, pe</td>\n",
       "      <td>NaN</td>\n",
       "      <td>http://www.smartcoach.fit/apps/termos</td>\n",
       "      <td>android.permission.ACCESS_ADSERVICES_AD_ID, an...</td>\n",
       "      <td>18</td>\n",
       "      <td>!android.permission.ACCESS_COARSE_LOCATION, !a...</td>\n",
       "      <td>4</td>\n",
       "      <td>Adjust, AltBeacon, Google CrashLytics, Google ...</td>\n",
       "      <td>5</td>\n",
       "      <td>Yes</td>\n",
       "    </tr>\n",
       "  </tbody>\n",
       "</table>\n",
       "</div>"
      ],
      "text/plain": [
       "      app_name                   app_id        categories content_rating  \\\n",
       "392  Smart Fit  com.eokoe.smartfitcoach  Health & Fitness       All ages   \n",
       "\n",
       "    updated_on  downloads  free  offersIAP top_grossing is_privacy_policy  \\\n",
       "392   11/25/24    8343420  True      False          Yes               Yes   \n",
       "\n",
       "                      countries inAppProductPrice  \\\n",
       "392  co, gt, cr, br, mx, cl, pe               NaN   \n",
       "\n",
       "                       privacy_policy_link  \\\n",
       "392  http://www.smartcoach.fit/apps/termos   \n",
       "\n",
       "                                           permissions  num_permissions  \\\n",
       "392  android.permission.ACCESS_ADSERVICES_AD_ID, an...               18   \n",
       "\n",
       "                                 dangerous_permissions  \\\n",
       "392  !android.permission.ACCESS_COARSE_LOCATION, !a...   \n",
       "\n",
       "     num_dangerous_permissions  \\\n",
       "392                          4   \n",
       "\n",
       "                                              trackers  num_trackers  \\\n",
       "392  Adjust, AltBeacon, Google CrashLytics, Google ...             5   \n",
       "\n",
       "    privacy_policy_file  \n",
       "392                 Yes  "
      ]
     },
     "execution_count": 4,
     "metadata": {},
     "output_type": "execute_result"
    }
   ],
   "source": [
    "apps_by_category = apps_with_errors['categories'].value_counts()\n",
    "print(apps_by_category)\n",
    "\n",
    "# Sort by downloads in descending order and print the first row\n",
    "top_app_error = apps_with_errors.sort_values(by=\"downloads\", ascending=False).head(1)\n",
    "# print(top_app_error['categories'])\n",
    "top_app_error"
   ]
  },
  {
   "cell_type": "code",
   "execution_count": 5,
   "id": "a7d08f9c-dc25-43ee-8e90-54eef60bf616",
   "metadata": {},
   "outputs": [
    {
     "name": "stdout",
     "output_type": "stream",
     "text": [
      "Number of apps 'is_privacy_policy' is 'Yes' but with no policy files:\n",
      "11\n"
     ]
    }
   ],
   "source": [
    "print(f\"Number of apps 'is_privacy_policy' is 'Yes' but with no policy files:\")\n",
    "print(len(mhealth_apps[(mhealth_apps['privacy_policy_file'] == 'No') & (mhealth_apps['is_privacy_policy'] == 'Yes')]))\n"
   ]
  },
  {
   "cell_type": "code",
   "execution_count": 6,
   "id": "2a0d93fa-e280-4b08-bdf0-833a413acc27",
   "metadata": {},
   "outputs": [],
   "source": [
    "app_data_shared = pd.read_csv('../data/app_data_shared.csv')\n",
    "app_data_collected = pd.read_csv('../data/app_data_collected.csv')\n",
    "app_security_practices = pd.read_csv('../data/app_security_practices.csv')\n",
    "\n",
    "if 'data_shared' not in mhealth_apps.columns:\n",
    "    mhealth_apps['data_shared'] = \"\"\n",
    "if 'shared_purpose' not in mhealth_apps.columns:\n",
    "    mhealth_apps['shared_purpose'] = \"\"\n",
    "    \n",
    "if 'data_collected' not in mhealth_apps.columns:\n",
    "    mhealth_apps['data_collected'] = \"\"\n",
    "if 'collected_purpose' not in mhealth_apps.columns:\n",
    "    mhealth_apps['collected_purpose'] = \"\"\n",
    "    \n",
    "if 'security_practices' not in mhealth_apps.columns:\n",
    "    mhealth_apps['security_practices'] = \"\"\n",
    "\n",
    "grouped_shared = app_data_shared.groupby('app_id')['data_shared'].apply(lambda x: ','.join(x.astype(str)))\n",
    "grouped_shared_purpose = app_data_shared.groupby('app_id')['shared_purpose'].apply(lambda x: ','.join(x.astype(str)))\n",
    "\n",
    "grouped_collected = app_data_collected.groupby('app_id')['data_collected'].apply(lambda x: ','.join(x.astype(str)))\n",
    "grouped_collected_purpose = app_data_collected.groupby('app_id')['collected_purpose'].apply(lambda x: ','.join(x.astype(str)))\n",
    "\n",
    "grouped_security_practices = app_security_practices.groupby('app_id')['security_practices'].apply(lambda x: ','.join(x.astype(str)))\n",
    "\n",
    "for idx, row in mhealth_apps.iterrows():\n",
    "    app_id = row['app_id']\n",
    "    if app_id in grouped_shared.index:\n",
    "        mhealth_apps.at[idx, 'data_shared'] = grouped_shared[app_id]\n",
    "        mhealth_apps.at[idx, 'shared_purpose'] = grouped_shared_purpose[app_id]\n",
    "        \n",
    "    if app_id in grouped_collected.index:\n",
    "        mhealth_apps.at[idx, 'data_collected'] = grouped_collected.get(app_id, \"\")\n",
    "        mhealth_apps.at[idx, 'collected_purpose'] = grouped_collected_purpose.get(app_id, \"\")\n",
    "        \n",
    "    if app_id in grouped_security_practices.index:\n",
    "        mhealth_apps.at[idx, 'security_practices'] = grouped_security_practices.get(app_id, \"\")\n",
    "\n",
    "\n",
    "\n",
    "mhealth_apps.to_csv('../data/updated_mhealth_apps.csv', index=False)"
   ]
  },
  {
   "cell_type": "code",
   "execution_count": 7,
   "id": "c6accf75-19f0-4ee4-8564-5310c54f82d7",
   "metadata": {},
   "outputs": [
    {
     "name": "stdout",
     "output_type": "stream",
     "text": [
      "Number of apps without a privacy policy but with shared data: 3\n",
      "Average downloads: 8741299.33\n",
      "Max downloads: 23560444\n",
      "Number of apps without a privacy policy but with collected data: 3\n",
      "Average downloads: 8741299.33\n",
      "Max downloads: 23560444\n",
      "Number of apps without a privacy policy but with both shared and collected data: 3\n",
      "Average downloads: 8741299.33\n",
      "Max downloads: 23560444\n"
     ]
    }
   ],
   "source": [
    "apps_no_policy_with_shared_data = mhealth_apps[\n",
    "    (mhealth_apps['privacy_policy_file'] == 'No') & \n",
    "    (mhealth_apps['data_shared'].notnull()) & \n",
    "    (mhealth_apps['data_shared'].str.strip() != '')\n",
    "]\n",
    "\n",
    "apps_no_policy_with_collected_data = mhealth_apps[\n",
    "    (mhealth_apps['privacy_policy_file'] == 'No') & \n",
    "    (mhealth_apps['data_collected'].notnull()) & \n",
    "    (mhealth_apps['data_collected'].str.strip() != '')\n",
    "]\n",
    "\n",
    "apps_no_policy_with_shared_and_collected_data = mhealth_apps[\n",
    "    (mhealth_apps['privacy_policy_file'] == 'No') &\n",
    "    (mhealth_apps['data_shared'].notnull()) & \n",
    "    (mhealth_apps['data_shared'].str.strip() != '') &\n",
    "    (mhealth_apps['data_collected'].notnull()) & \n",
    "    (mhealth_apps['data_collected'].str.strip() != '')\n",
    "]\n",
    "\n",
    "print(f\"Number of apps without a privacy policy but with shared data: {len(apps_no_policy_with_shared_data)}\")\n",
    "print('Average downloads:', round(apps_no_policy_with_shared_data['downloads'].astype(int).mean(), 2))\n",
    "print('Max downloads:', round(apps_no_policy_with_shared_data['downloads'].astype(int).max(), 2))\n",
    "\n",
    "print(f\"Number of apps without a privacy policy but with collected data: {len(apps_no_policy_with_collected_data)}\")\n",
    "print('Average downloads:', round(apps_no_policy_with_collected_data['downloads'].astype(int).mean(), 2))\n",
    "print('Max downloads:', round(apps_no_policy_with_collected_data['downloads'].astype(int).max(), 2))\n",
    "\n",
    "print(f\"Number of apps without a privacy policy but with both shared and collected data: {len(apps_no_policy_with_shared_and_collected_data)}\")\n",
    "print('Average downloads:', round(apps_no_policy_with_shared_and_collected_data['downloads'].astype(int).mean(), 2))\n",
    "print('Max downloads:', round(apps_no_policy_with_shared_and_collected_data['downloads'].astype(int).max(), 2))"
   ]
  },
  {
   "cell_type": "code",
   "execution_count": 8,
   "id": "f3e91a42-6d03-4e49-9f0e-0eb18e9e8033",
   "metadata": {},
   "outputs": [
    {
     "name": "stdout",
     "output_type": "stream",
     "text": [
      "191    Lifestyle\n",
      "Name: categories, dtype: object\n"
     ]
    }
   ],
   "source": [
    "# Sort by downloads in descending order and print the first row\n",
    "top_app = apps_no_policy_with_shared_and_collected_data.sort_values(by=\"downloads\", ascending=False).head(1)\n",
    "print(top_app['categories'])"
   ]
  },
  {
   "cell_type": "code",
   "execution_count": 9,
   "id": "4e34a647-0796-44bb-bb52-15584c57b374",
   "metadata": {},
   "outputs": [
    {
     "name": "stdout",
     "output_type": "stream",
     "text": [
      "categories\n",
      "Lifestyle           1\n",
      "Medical             1\n",
      "Health & Fitness    1\n",
      "Name: count, dtype: int64\n"
     ]
    }
   ],
   "source": [
    "apps_by_category = apps_no_policy_with_shared_data['categories'].value_counts()\n",
    "print(apps_by_category)"
   ]
  },
  {
   "cell_type": "code",
   "execution_count": 10,
   "id": "72ab2851-0f06-4755-816b-1e5225f0e3ad",
   "metadata": {},
   "outputs": [
    {
     "name": "stdout",
     "output_type": "stream",
     "text": [
      "Average downloads: 2185826.0\n",
      "Average downloads: 477628.0\n"
     ]
    },
    {
     "data": {
      "text/plain": [
       "categories\n",
       "Lifestyle           1\n",
       "Medical             1\n",
       "Health & Fitness    1\n",
       "Name: count, dtype: int64"
      ]
     },
     "execution_count": 10,
     "metadata": {},
     "output_type": "execute_result"
    }
   ],
   "source": [
    "apps_no_policy_with_collected_data.head()\n",
    "apps_by_category = apps_no_policy_with_collected_data['categories'].value_counts()\n",
    "print('Average downloads:', round(apps_no_policy_with_collected_data[apps_no_policy_with_collected_data['categories'] == 'Health & Fitness']['downloads'].astype(int).mean(), 2))\n",
    "print('Average downloads:', round(apps_no_policy_with_collected_data[apps_no_policy_with_collected_data['categories'] == 'Medical']['downloads'].astype(int).mean(), 2))\n",
    "\n",
    "apps_by_category"
   ]
  },
  {
   "cell_type": "code",
   "execution_count": 11,
   "id": "41a167ae-5d11-431b-ad7e-eddd5961d3d1",
   "metadata": {},
   "outputs": [
    {
     "name": "stdout",
     "output_type": "stream",
     "text": [
      "Average downloads: 2185826.0\n",
      "Average downloads: 477628.0\n"
     ]
    },
    {
     "data": {
      "text/plain": [
       "categories\n",
       "Lifestyle           1\n",
       "Medical             1\n",
       "Health & Fitness    1\n",
       "Name: count, dtype: int64"
      ]
     },
     "execution_count": 11,
     "metadata": {},
     "output_type": "execute_result"
    }
   ],
   "source": [
    "apps_no_policy_with_shared_and_collected_data.head()\n",
    "apps_by_category = apps_no_policy_with_shared_and_collected_data['categories'].value_counts()\n",
    "print('Average downloads:', round(apps_no_policy_with_collected_data[apps_no_policy_with_collected_data['categories'] == 'Health & Fitness']['downloads'].astype(int).mean(), 2))\n",
    "print('Average downloads:', round(apps_no_policy_with_collected_data[apps_no_policy_with_collected_data['categories'] == 'Medical']['downloads'].astype(int).mean(), 2))\n",
    "\n",
    "apps_by_category"
   ]
  },
  {
   "cell_type": "code",
   "execution_count": null,
   "id": "3eb3405d-c23a-49ea-85e5-2898d3f73d8e",
   "metadata": {},
   "outputs": [],
   "source": []
  },
  {
   "cell_type": "code",
   "execution_count": null,
   "id": "c95beca9-fb27-45e5-af83-4fa2384730ce",
   "metadata": {},
   "outputs": [],
   "source": []
  },
  {
   "cell_type": "code",
   "execution_count": null,
   "id": "eb1ff9aa-4c93-492e-bd98-448e981c0d32",
   "metadata": {},
   "outputs": [],
   "source": []
  }
 ],
 "metadata": {
  "kernelspec": {
   "display_name": "Python [conda env:base] *",
   "language": "python",
   "name": "conda-base-py"
  },
  "language_info": {
   "codemirror_mode": {
    "name": "ipython",
    "version": 3
   },
   "file_extension": ".py",
   "mimetype": "text/x-python",
   "name": "python",
   "nbconvert_exporter": "python",
   "pygments_lexer": "ipython3",
   "version": "3.13.5"
  }
 },
 "nbformat": 4,
 "nbformat_minor": 5
}
